{
 "cells": [
  {
   "cell_type": "markdown",
   "id": "130d33e3-24fb-4006-8573-1bc32c4ef633",
   "metadata": {},
   "source": [
    "### Exporting a List of 'Global Cities - Alpha' from wiki page:https://en.wikipedia.org/wiki/Global_city\n",
    "\n",
    "- 1: Importing Libraries\n",
    "- 2: Setting up driver to scrape details from URL\n",
    "- 3: Manipulating pandas DF to obtain 2 column list and exporting to .csv"
   ]
  },
  {
   "cell_type": "code",
   "execution_count": 1,
   "id": "cb5e2048-fa2e-4a95-9c39-530d23841453",
   "metadata": {
    "tags": []
   },
   "outputs": [],
   "source": [
    "# Step 1: Importing Libraries - using Selenium instead of BeautifulSoup as per CF training.\n",
    "\n",
    "# Import libraries\n",
    "\n",
    "import pandas as pd\n",
    "import time\n",
    "from selenium import webdriver\n",
    "from webdriver_manager.chrome import ChromeDriverManager\n",
    "from selenium.webdriver.common.by import By\n",
    "from selenium.webdriver.chrome.service import Service\n",
    "from selenium.webdriver.chrome.options import Options\n",
    "import matplotlib.pyplot as plt\n",
    "import os\n",
    "import logging\n",
    "import requests\n",
    "import bs4\n",
    "from bs4 import BeautifulSoup"
   ]
  },
  {
   "cell_type": "code",
   "execution_count": 3,
   "id": "c5610789-5c71-4591-aaa9-f3e4f09e20d0",
   "metadata": {
    "tags": []
   },
   "outputs": [],
   "source": [
    "## Step 2 - Setup chrome options\n",
    "\n",
    "chrome_options = Options()\n",
    "chrome_options.add_argument(\"--no-sandbox\")\n",
    "\n",
    "service = Service(executable_path=ChromeDriverManager().install())\n",
    "driver = webdriver.Chrome(service=service)"
   ]
  },
  {
   "cell_type": "code",
   "execution_count": 4,
   "id": "9cee94dc-3ab9-47e0-a8e9-602ca494e0ff",
   "metadata": {
    "tags": []
   },
   "outputs": [],
   "source": [
    "# Get URL\n",
    "page_url = \"https://en.wikipedia.org/wiki/Global_city\"\n",
    "driver.get(page_url)\n",
    "\n",
    "# Wait for the page to load fully\n",
    "time.sleep(5)\n",
    "\n",
    "# Create a collection of the characters\n",
    "city_elems = driver.find_elements(by = By.TAG_NAME, value = 'UL')"
   ]
  },
  {
   "cell_type": "code",
   "execution_count": 5,
   "id": "e072f511-7743-4deb-984f-2115f9ef5cae",
   "metadata": {
    "tags": []
   },
   "outputs": [],
   "source": [
    "# Step 3:\n",
    "#all cities are in paragraph 44-46\n",
    "city_list = []\n",
    "for i in range(43,46):\n",
    "    city_list.append(city_elems[i].text)\n",
    "    \n",
    "# split the country list and remove the leading and trailing spaces\n",
    "clean_city = []\n",
    "for c in city_list:\n",
    "    new_c = c.split('\\n')\n",
    "    for new in new_c:\n",
    "        clean_city.append(new.strip())"
   ]
  },
  {
   "cell_type": "code",
   "execution_count": 8,
   "id": "742c146e-ba09-43ed-b97c-77a65d6f730e",
   "metadata": {
    "tags": []
   },
   "outputs": [],
   "source": [
    "df = pd.DataFrame(clean_city, columns=['City'])\n",
    "df.to_csv('List_of_Alpha_Cities')"
   ]
  },
  {
   "cell_type": "code",
   "execution_count": null,
   "id": "08d20414-0856-476e-bd41-78611628c493",
   "metadata": {},
   "outputs": [],
   "source": []
  }
 ],
 "metadata": {
  "kernelspec": {
   "display_name": "Python [conda env:anaconda3-venv_20th_century]",
   "language": "python",
   "name": "conda-env-anaconda3-venv_20th_century-py"
  },
  "language_info": {
   "codemirror_mode": {
    "name": "ipython",
    "version": 3
   },
   "file_extension": ".py",
   "mimetype": "text/x-python",
   "name": "python",
   "nbconvert_exporter": "python",
   "pygments_lexer": "ipython3",
   "version": "3.12.3"
  }
 },
 "nbformat": 4,
 "nbformat_minor": 5
}
