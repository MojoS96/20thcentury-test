{
 "cells": [
  {
   "cell_type": "markdown",
   "id": "3d094cf5-698a-4a11-883e-fccd498c512c",
   "metadata": {},
   "source": [
    "# 1.7 Network Graph Visualization\n",
    "\n",
    "#### The purpose of this script is to use our previously generated 20th century event entity relationship document and turn it into a network graph which will showcase the relationships between counries during this period. Using centrality functions we'll be able to figure out which countries held more importance* during the 20th century (as far as the original wiki text is concerned)\n",
    "\n",
    "#### Script is broken down into the following sections:\n",
    "- 1 - Library and Dataset Importing\n",
    "- 2 - Networkx network graph\n",
    "- 3 - Visualizations using Pyvis & Ledien algorithm to identify possible communities within the nodes\n",
    "- 4 - Centrality Charts (Degree, Closeness, Betweeness)\n"
   ]
  },
  {
   "cell_type": "markdown",
   "id": "2011700d-07ec-4687-9703-7a18cf0af1ad",
   "metadata": {},
   "source": [
    "### Step 1: Importing Libraries & Data"
   ]
  },
  {
   "cell_type": "code",
   "execution_count": null,
   "id": "dcdd857e-3e3a-4a4f-9856-c961bca82e60",
   "metadata": {
    "tags": []
   },
   "outputs": [
    {
     "name": "stdout",
     "output_type": "stream",
     "text": [
      "Requirement already satisfied: pyvis in c:\\users\\mojos\\anaconda3\\lib\\site-packages (0.3.2)\n",
      "Requirement already satisfied: ipython>=5.3.0 in c:\\users\\mojos\\anaconda3\\lib\\site-packages (from pyvis) (8.15.0)\n",
      "Requirement already satisfied: jinja2>=2.9.6 in c:\\users\\mojos\\anaconda3\\lib\\site-packages (from pyvis) (3.1.2)\n",
      "Requirement already satisfied: jsonpickle>=1.4.1 in c:\\users\\mojos\\anaconda3\\lib\\site-packages (from pyvis) (3.2.2)\n",
      "Requirement already satisfied: networkx>=1.11 in c:\\users\\mojos\\anaconda3\\lib\\site-packages (from pyvis) (3.1)\n",
      "Requirement already satisfied: backcall in c:\\users\\mojos\\anaconda3\\lib\\site-packages (from ipython>=5.3.0->pyvis) (0.2.0)\n",
      "Requirement already satisfied: decorator in c:\\users\\mojos\\anaconda3\\lib\\site-packages (from ipython>=5.3.0->pyvis) (5.1.1)\n",
      "Requirement already satisfied: jedi>=0.16 in c:\\users\\mojos\\anaconda3\\lib\\site-packages (from ipython>=5.3.0->pyvis) (0.18.1)\n",
      "Requirement already satisfied: matplotlib-inline in c:\\users\\mojos\\anaconda3\\lib\\site-packages (from ipython>=5.3.0->pyvis) (0.1.6)\n",
      "Requirement already satisfied: pickleshare in c:\\users\\mojos\\anaconda3\\lib\\site-packages (from ipython>=5.3.0->pyvis) (0.7.5)\n",
      "Requirement already satisfied: prompt-toolkit!=3.0.37,<3.1.0,>=3.0.30 in c:\\users\\mojos\\anaconda3\\lib\\site-packages (from ipython>=5.3.0->pyvis) (3.0.36)\n",
      "Requirement already satisfied: pygments>=2.4.0 in c:\\users\\mojos\\anaconda3\\lib\\site-packages (from ipython>=5.3.0->pyvis) (2.15.1)\n",
      "Requirement already satisfied: stack-data in c:\\users\\mojos\\anaconda3\\lib\\site-packages (from ipython>=5.3.0->pyvis) (0.2.0)\n",
      "Requirement already satisfied: traitlets>=5 in c:\\users\\mojos\\anaconda3\\lib\\site-packages (from ipython>=5.3.0->pyvis) (5.7.1)\n",
      "Requirement already satisfied: colorama in c:\\users\\mojos\\anaconda3\\lib\\site-packages (from ipython>=5.3.0->pyvis) (0.4.6)\n",
      "Requirement already satisfied: MarkupSafe>=2.0 in c:\\users\\mojos\\anaconda3\\lib\\site-packages (from jinja2>=2.9.6->pyvis) (2.1.1)\n",
      "Requirement already satisfied: parso<0.9.0,>=0.8.0 in c:\\users\\mojos\\anaconda3\\lib\\site-packages (from jedi>=0.16->ipython>=5.3.0->pyvis) (0.8.3)\n",
      "Requirement already satisfied: wcwidth in c:\\users\\mojos\\anaconda3\\lib\\site-packages (from prompt-toolkit!=3.0.37,<3.1.0,>=3.0.30->ipython>=5.3.0->pyvis) (0.2.5)\n",
      "Requirement already satisfied: executing in c:\\users\\mojos\\anaconda3\\lib\\site-packages (from stack-data->ipython>=5.3.0->pyvis) (0.8.3)\n",
      "Requirement already satisfied: asttokens in c:\\users\\mojos\\anaconda3\\lib\\site-packages (from stack-data->ipython>=5.3.0->pyvis) (2.0.5)\n",
      "Requirement already satisfied: pure-eval in c:\\users\\mojos\\anaconda3\\lib\\site-packages (from stack-data->ipython>=5.3.0->pyvis) (0.2.2)\n",
      "Requirement already satisfied: six in c:\\users\\mojos\\anaconda3\\lib\\site-packages (from asttokens->stack-data->ipython>=5.3.0->pyvis) (1.16.0)\n",
      "Requirement already satisfied: cdlib in c:\\users\\mojos\\anaconda3\\lib\\site-packages (0.4.0)\n",
      "Requirement already satisfied: numpy in c:\\users\\mojos\\anaconda3\\lib\\site-packages (from cdlib) (1.24.3)\n",
      "Requirement already satisfied: scikit-learn in c:\\users\\mojos\\anaconda3\\lib\\site-packages (from cdlib) (1.3.0)\n",
      "Requirement already satisfied: tqdm in c:\\users\\mojos\\anaconda3\\lib\\site-packages (from cdlib) (4.65.0)\n",
      "Requirement already satisfied: networkx>=3.0 in c:\\users\\mojos\\anaconda3\\lib\\site-packages (from cdlib) (3.1)\n",
      "Requirement already satisfied: demon in c:\\users\\mojos\\anaconda3\\lib\\site-packages (from cdlib) (2.0.6)\n",
      "Requirement already satisfied: python-louvain>=0.16 in c:\\users\\mojos\\anaconda3\\lib\\site-packages (from cdlib) (0.16)\n",
      "Requirement already satisfied: scipy>=1.10 in c:\\users\\mojos\\anaconda3\\lib\\site-packages (from cdlib) (1.14.0)\n",
      "Requirement already satisfied: pulp in c:\\users\\mojos\\anaconda3\\lib\\site-packages (from cdlib) (2.8.0)\n",
      "Requirement already satisfied: seaborn in c:\\users\\mojos\\anaconda3\\lib\\site-packages (from cdlib) (0.12.2)\n",
      "Requirement already satisfied: pandas in c:\\users\\mojos\\anaconda3\\lib\\site-packages (from cdlib) (2.1.4)\n",
      "Requirement already satisfied: eva-lcd in c:\\users\\mojos\\anaconda3\\lib\\site-packages (from cdlib) (0.1.1)\n",
      "Requirement already satisfied: bimlpa in c:\\users\\mojos\\anaconda3\\lib\\site-packages (from cdlib) (0.1.2)\n",
      "Requirement already satisfied: python-igraph>=0.10 in c:\\users\\mojos\\anaconda3\\lib\\site-packages (from cdlib) (0.11.5)\n",
      "Requirement already satisfied: angelcommunity in c:\\users\\mojos\\anaconda3\\lib\\site-packages (from cdlib) (2.0.0)\n",
      "Requirement already satisfied: pooch in c:\\users\\mojos\\anaconda3\\lib\\site-packages (from cdlib) (1.8.2)\n",
      "Requirement already satisfied: dynetx in c:\\users\\mojos\\anaconda3\\lib\\site-packages (from cdlib) (0.3.2)\n",
      "Requirement already satisfied: thresholdclustering in c:\\users\\mojos\\anaconda3\\lib\\site-packages (from cdlib) (1.1)\n",
      "Requirement already satisfied: python-Levenshtein in c:\\users\\mojos\\anaconda3\\lib\\site-packages (from cdlib) (0.25.1)\n",
      "Requirement already satisfied: plotly in c:\\users\\mojos\\anaconda3\\lib\\site-packages (from cdlib) (5.9.0)\n",
      "Requirement already satisfied: igraph==0.11.5 in c:\\users\\mojos\\anaconda3\\lib\\site-packages (from python-igraph>=0.10->cdlib) (0.11.5)\n",
      "Requirement already satisfied: texttable>=1.6.2 in c:\\users\\mojos\\anaconda3\\lib\\site-packages (from igraph==0.11.5->python-igraph>=0.10->cdlib) (1.7.0)\n",
      "Requirement already satisfied: future in c:\\users\\mojos\\anaconda3\\lib\\site-packages (from angelcommunity->cdlib) (0.18.3)\n",
      "Requirement already satisfied: matplotlib in c:\\users\\mojos\\anaconda3\\lib\\site-packages (from bimlpa->cdlib) (3.7.2)\n",
      "Requirement already satisfied: decorator in c:\\users\\mojos\\anaconda3\\lib\\site-packages (from dynetx->cdlib) (5.1.1)\n",
      "Requirement already satisfied: python-dateutil>=2.8.2 in c:\\users\\mojos\\anaconda3\\lib\\site-packages (from pandas->cdlib) (2.8.2)\n",
      "Requirement already satisfied: pytz>=2020.1 in c:\\users\\mojos\\anaconda3\\lib\\site-packages (from pandas->cdlib) (2023.3.post1)\n",
      "Requirement already satisfied: tzdata>=2022.1 in c:\\users\\mojos\\anaconda3\\lib\\site-packages (from pandas->cdlib) (2023.3)\n",
      "Requirement already satisfied: tenacity>=6.2.0 in c:\\users\\mojos\\anaconda3\\lib\\site-packages (from plotly->cdlib) (8.2.2)\n",
      "Requirement already satisfied: platformdirs>=2.5.0 in c:\\users\\mojos\\anaconda3\\lib\\site-packages (from pooch->cdlib) (3.10.0)\n",
      "Requirement already satisfied: packaging>=20.0 in c:\\users\\mojos\\anaconda3\\lib\\site-packages (from pooch->cdlib) (23.1)\n",
      "Requirement already satisfied: requests>=2.19.0 in c:\\users\\mojos\\anaconda3\\lib\\site-packages (from pooch->cdlib) (2.31.0)\n",
      "Requirement already satisfied: Levenshtein==0.25.1 in c:\\users\\mojos\\anaconda3\\lib\\site-packages (from python-Levenshtein->cdlib) (0.25.1)\n",
      "Requirement already satisfied: rapidfuzz<4.0.0,>=3.8.0 in c:\\users\\mojos\\anaconda3\\lib\\site-packages (from Levenshtein==0.25.1->python-Levenshtein->cdlib) (3.9.3)\n",
      "Requirement already satisfied: joblib>=1.1.1 in c:\\users\\mojos\\anaconda3\\lib\\site-packages (from scikit-learn->cdlib) (1.2.0)\n",
      "Requirement already satisfied: threadpoolctl>=2.0.0 in c:\\users\\mojos\\anaconda3\\lib\\site-packages (from scikit-learn->cdlib) (2.2.0)\n",
      "Requirement already satisfied: colorama in c:\\users\\mojos\\anaconda3\\lib\\site-packages (from tqdm->cdlib) (0.4.6)\n",
      "Requirement already satisfied: contourpy>=1.0.1 in c:\\users\\mojos\\anaconda3\\lib\\site-packages (from matplotlib->bimlpa->cdlib) (1.0.5)\n",
      "Requirement already satisfied: cycler>=0.10 in c:\\users\\mojos\\anaconda3\\lib\\site-packages (from matplotlib->bimlpa->cdlib) (0.11.0)\n",
      "Requirement already satisfied: fonttools>=4.22.0 in c:\\users\\mojos\\anaconda3\\lib\\site-packages (from matplotlib->bimlpa->cdlib) (4.25.0)\n",
      "Requirement already satisfied: kiwisolver>=1.0.1 in c:\\users\\mojos\\anaconda3\\lib\\site-packages (from matplotlib->bimlpa->cdlib) (1.4.4)\n",
      "Requirement already satisfied: pillow>=6.2.0 in c:\\users\\mojos\\anaconda3\\lib\\site-packages (from matplotlib->bimlpa->cdlib) (10.0.1)\n",
      "Requirement already satisfied: pyparsing<3.1,>=2.3.1 in c:\\users\\mojos\\anaconda3\\lib\\site-packages (from matplotlib->bimlpa->cdlib) (3.0.9)\n",
      "Requirement already satisfied: six>=1.5 in c:\\users\\mojos\\anaconda3\\lib\\site-packages (from python-dateutil>=2.8.2->pandas->cdlib) (1.16.0)\n",
      "Requirement already satisfied: charset-normalizer<4,>=2 in c:\\users\\mojos\\anaconda3\\lib\\site-packages (from requests>=2.19.0->pooch->cdlib) (2.0.4)\n",
      "Requirement already satisfied: idna<4,>=2.5 in c:\\users\\mojos\\anaconda3\\lib\\site-packages (from requests>=2.19.0->pooch->cdlib) (3.4)\n",
      "Requirement already satisfied: urllib3<3,>=1.21.1 in c:\\users\\mojos\\anaconda3\\lib\\site-packages (from requests>=2.19.0->pooch->cdlib) (1.26.16)\n",
      "Requirement already satisfied: certifi>=2017.4.17 in c:\\users\\mojos\\anaconda3\\lib\\site-packages (from requests>=2.19.0->pooch->cdlib) (2024.6.2)\n"
     ]
    }
   ],
   "source": [
    "!pip install pyvis\n",
    "!pip install cdlib\n",
    "!pip install leidenalg"
   ]
  },
  {
   "cell_type": "code",
   "execution_count": null,
   "id": "32df2b4c-73f4-4c5b-8503-8a14bd1526bb",
   "metadata": {
    "tags": []
   },
   "outputs": [],
   "source": [
    "import pandas as pd\n",
    "import numpy as np\n",
    "import networkx as nx\n",
    "import os\n",
    "import matplotlib.pyplot as plt\n",
    "import pyvis\n",
    "from pyvis.network import Network\n",
    "import seaborn as sns\n",
    "import cdlib"
   ]
  },
  {
   "cell_type": "code",
   "execution_count": null,
   "id": "7fc3a03d-16ba-4817-8e0c-e4420198ea61",
   "metadata": {},
   "outputs": [],
   "source": [
    "# Import relationship data\n",
    "\n",
    "relationship_df = pd.read_csv('country_relationship.csv', index_col = 0)\n",
    "relationship_df.head()"
   ]
  },
  {
   "cell_type": "markdown",
   "id": "cb333804-11cb-4c32-a32c-d9eb23a5a14b",
   "metadata": {},
   "source": [
    "### Step 2: Networkx Graphs - Limited customization"
   ]
  },
  {
   "cell_type": "code",
   "execution_count": null,
   "id": "27b61883-bc3c-4aaa-8fc3-0e1b896c7338",
   "metadata": {
    "tags": []
   },
   "outputs": [],
   "source": [
    "# Create a graph from a pandas dataframe\n",
    "\n",
    "G = nx.from_pandas_edgelist(relationship_df, \n",
    "                            source = \"source\", \n",
    "                            target = \"target\", \n",
    "                            edge_attr = \"value\", \n",
    "                            create_using = nx.Graph())"
   ]
  },
  {
   "cell_type": "code",
   "execution_count": null,
   "id": "72cc7d40-5cb0-4d6c-96c6-9078642d18c9",
   "metadata": {
    "tags": []
   },
   "outputs": [],
   "source": [
    "h = plt.figure(figsize = (7,7))\n",
    "pos = nx.kamada_kawai_layout(G)\n",
    "nx.draw(G, with_labels = True, node_color = 'red', edge_cmap = plt.cm.Blues, pos = pos)\n",
    "plt.show() "
   ]
  },
  {
   "cell_type": "code",
   "execution_count": null,
   "id": "bde228ee-0e61-4631-b9a9-e6217fa84ef5",
   "metadata": {
    "tags": []
   },
   "outputs": [],
   "source": [
    "h.savefig('networkx_plt_countries.png')"
   ]
  },
  {
   "cell_type": "markdown",
   "id": "de7be8ed-ccde-46ca-a55c-4a50c04fa527",
   "metadata": {},
   "source": [
    "### Step 3: Pyvis and Leiden visualizations"
   ]
  },
  {
   "cell_type": "code",
   "execution_count": null,
   "id": "8553d0ff-732d-4167-b9fc-9378b863a539",
   "metadata": {
    "tags": []
   },
   "outputs": [],
   "source": [
    "# Define net object\n",
    "\n",
    "net = Network()\n",
    "net = Network(notebook = True,width=\"900px\", height=\"800px\", bgcolor='#222222', font_color='white')\n",
    "\n",
    "# Define nodes from the G object\n",
    "node_degree = dict(G.degree)\n",
    "\n",
    "# Setting up node size attributes\n",
    "nx.set_node_attributes(G, node_degree, 'size')\n",
    "net.from_nx(G)\n",
    "net.show_buttons(filter_ = True)\n",
    "net.repulsion()\n",
    "net.show(\"Country.html\")"
   ]
  },
  {
   "cell_type": "code",
   "execution_count": null,
   "id": "a166caef-7c22-44c6-b7ca-cc03b0c8e065",
   "metadata": {
    "tags": []
   },
   "outputs": [],
   "source": [
    "from cdlib import algorithms\n",
    "coms = algorithms.leiden(G)"
   ]
  },
  {
   "cell_type": "code",
   "execution_count": null,
   "id": "91deb118-9121-499e-90b0-152e06a7a9c6",
   "metadata": {},
   "outputs": [],
   "source": [
    "type(coms)"
   ]
  },
  {
   "cell_type": "code",
   "execution_count": null,
   "id": "53509181-2ae8-490b-9177-754629666f3c",
   "metadata": {},
   "outputs": [],
   "source": [
    "new_com = coms.to_node_community_map()\n",
    "new_com"
   ]
  },
  {
   "cell_type": "code",
   "execution_count": null,
   "id": "51b96565-965e-4d55-83ad-26c616b8ea13",
   "metadata": {},
   "outputs": [],
   "source": [
    "# Put the output from new_com into a dictionary\n",
    "\n",
    "dict_com = {k:v[0] for k,v in new_com.items()}\n",
    "dict_com"
   ]
  },
  {
   "cell_type": "code",
   "execution_count": null,
   "id": "44a2c889-6395-4362-bbcf-ad7b766fbfff",
   "metadata": {},
   "outputs": [],
   "source": [
    "# Rerun network graph with the communities as an argument\n",
    "\n",
    "nx.set_node_attributes(G, dict_com, 'group')\n",
    "com_net = Network(notebook = True, width=\"1300px\", height=\"700px\", bgcolor='#222222', font_color='white')\n",
    "com_net.from_nx(G)\n",
    "com_net.show_buttons(filter_ = True)\n",
    "com_net.repulsion()\n",
    "com_net.show(\"country_communities_leiden.html\")"
   ]
  },
  {
   "cell_type": "markdown",
   "id": "1fa4cfd4-75bf-47bb-95ad-5bf84fb3d47c",
   "metadata": {},
   "source": [
    "#### Interestingly the communities which the Leiden algorithm have identified are fairly successful in how they demonstrate groupings between countries by thigns like alliances and conflicts. as an example, The United states is shown to have it's own connections to specific events which it partook in, such as vietnam war & the koren wars - this community is distinct from the community of european countries which presumably were impacted by WW2 & events that took place in the USSR.\n",
    "\n",
    "#### There are definetly some events or connections which have not been made for one reason or another, but these are probably due to how the data has been wrangled, rather than the algorithm itslef (e.g, limited connections between the US and Iran, the US and Japan etc.)"
   ]
  },
  {
   "cell_type": "markdown",
   "id": "c8a7941f-7043-4caa-95e3-3c98d9ca1b18",
   "metadata": {},
   "source": [
    "### Step 4: Defining the most important countries during the 20th Century by reviewing Centrality values"
   ]
  },
  {
   "cell_type": "code",
   "execution_count": null,
   "id": "442a4f4e-9e67-4b19-a030-90c3c1ebb044",
   "metadata": {
    "tags": []
   },
   "outputs": [],
   "source": [
    "# Degree centrality\n",
    "\n",
    "degree_dict = nx.degree_centrality(G)\n",
    "degree_dict"
   ]
  },
  {
   "cell_type": "code",
   "execution_count": null,
   "id": "ca871217-de34-4e48-927a-1dbdbbc55e80",
   "metadata": {
    "tags": []
   },
   "outputs": [],
   "source": [
    "degree_df = pd.DataFrame(degree_dict.items(), columns=['country','centrality'])\n",
    "degree_df"
   ]
  },
  {
   "cell_type": "code",
   "execution_count": null,
   "id": "a76e4fd2-0a1e-4563-b17c-bf89a03ed167",
   "metadata": {},
   "outputs": [],
   "source": [
    "degree_df.sort_values(by = ['centrality'], ascending=False, inplace = True)"
   ]
  },
  {
   "cell_type": "code",
   "execution_count": null,
   "id": "dfa8ea7d-ae8e-4b45-a250-5c34e447beed",
   "metadata": {},
   "outputs": [],
   "source": [
    "# Plot the degree centrality\n",
    "\n",
    "plt.figure(figsize = (10, 11))\n",
    "with sns.dark_palette(\"xkcd:blue\", 22):\n",
    "    sns.barplot(x = \"centrality\", y = \"country\",\n",
    "    saturation = 0.9, data = degree_df).set_title(\"20th Century Countries - degree centrality\")"
   ]
  },
  {
   "cell_type": "markdown",
   "id": "aa3865ed-0fb0-4b38-9308-58a4eb352be5",
   "metadata": {},
   "source": [
    "#### The output of this degree centrality measurement is inline with expectations - Based on the prior html output, we understand that Germany has by far, the largest qty of connections within the network graph. Based on common historic knowledge, Germany is a key player in 20th entury events, so it's understandable that it's positioned as one of the key figures. There data limitations which are made obvious by this output, as 'allied' forces such as the UK, & USA, fail to make an impact despite their prevelance in events."
   ]
  },
  {
   "cell_type": "code",
   "execution_count": null,
   "id": "cd029a1d-6f80-4a16-9591-a601101cdb64",
   "metadata": {},
   "outputs": [],
   "source": [
    "# Closeness centrality\n",
    "\n",
    "closeness_dict = nx.closeness_centrality(G)\n",
    "closeness_df = pd.DataFrame(closeness_dict.items(), columns=['country','centrality'])"
   ]
  },
  {
   "cell_type": "code",
   "execution_count": null,
   "id": "ef31cb2e-aab4-4a1f-83ac-2d5c709db8d4",
   "metadata": {},
   "outputs": [],
   "source": [
    "closeness_df.sort_values(by = ['centrality'], ascending=False, inplace = True)"
   ]
  },
  {
   "cell_type": "code",
   "execution_count": null,
   "id": "6093505a-1947-4f64-926a-78d12fa4b7c7",
   "metadata": {},
   "outputs": [],
   "source": [
    "plt.figure(figsize = (10,11))\n",
    "with sns.dark_palette(\"xkcd:blue\", 22):\n",
    "    sns.barplot(x = \"centrality\", y = \"country\",\n",
    "    saturation = 0.9, data = closeness_df).set_title(\"20th Century Countries - closeness centrality\")"
   ]
  },
  {
   "cell_type": "markdown",
   "id": "c4617aae-6c4c-4370-abd8-2c2a97ece189",
   "metadata": {},
   "source": [
    "#### Closeness, tells a slightly different story to degree. Whilst there is still a prevailing consensus of Germany / Japan's influence, this output indicates that overall there isn't a clear definition of 1 country exerting significantly more sway (all values under 0.4). Whilst some countries may appear in more than 1 event during the period, I think the fact that there are multiple countries which hover around the 0.2-3 range, it's telling that the period is made up of many fragmented events which may have an overlap with a country here or there."
   ]
  },
  {
   "cell_type": "code",
   "execution_count": null,
   "id": "f6f9c3fa-25c8-4073-8922-73c4c8d50ed0",
   "metadata": {},
   "outputs": [],
   "source": [
    "# Betweenness centrality\n",
    "\n",
    "betweenness_dict = nx.betweenness_centrality(G)\n",
    "betweennes_df = pd.DataFrame(betweenness_dict.items(), columns=['country','centrality'])"
   ]
  },
  {
   "cell_type": "code",
   "execution_count": null,
   "id": "2ad5487a-ec05-4a6c-895d-d9e2034e88d1",
   "metadata": {},
   "outputs": [],
   "source": [
    "betweennes_df.sort_values(by = ['centrality'], ascending=False, inplace = True)"
   ]
  },
  {
   "cell_type": "code",
   "execution_count": null,
   "id": "55e0a128-d1f1-453d-b10b-974b536493cc",
   "metadata": {},
   "outputs": [],
   "source": [
    "plt.figure(figsize = (10,11))\n",
    "with sns.dark_palette(\"xkcd:blue\", 22):\n",
    "    sns.barplot(x = \"centrality\", y = \"country\",\n",
    "    saturation = 0.9, data = betweennes_df).set_title(\"20th Century Countries - betweenness centrality\")"
   ]
  },
  {
   "cell_type": "markdown",
   "id": "355c5a89-a0da-4225-a1b5-50b75524eabf",
   "metadata": {},
   "source": [
    "#### Finally, Betweeness corroberates the findings of the closeness chart. Germany & Japan are still acknowledged to be the primary countries that form part of the bridges between nodes. Compared to some of the examples given in the CF readings, where the spread of data between relationships is much more concentrated, there is a lot of variance between the qty & strength of connections in this DF. As an example of what I mean, There is a section in the original network graph containing a community of African countries which appear to be somewhat isolated and distinct from other communities/assumed events. Because of how distinct some of these communities are, I believe the output in this betweeness chart aren't as drastic as initially expected. there are a large qty of countries which poses 'influence' or 'importance' (between 0.1-2, atleast as far as this DF goes) because each self-contained community seems to have it's own important players. Japan & Germany exert the most pressure (in my opinion) because of the size of their community & their placement."
   ]
  }
 ],
 "metadata": {
  "kernelspec": {
   "display_name": "venv_20th_century",
   "language": "python",
   "name": "venv_20th_century"
  },
  "language_info": {
   "codemirror_mode": {
    "name": "ipython",
    "version": 3
   },
   "file_extension": ".py",
   "mimetype": "text/x-python",
   "name": "python",
   "nbconvert_exporter": "python",
   "pygments_lexer": "ipython3",
   "version": "3.11.5"
  }
 },
 "nbformat": 4,
 "nbformat_minor": 5
}
